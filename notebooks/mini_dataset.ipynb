{
 "cells": [
  {
   "cell_type": "code",
   "execution_count": null,
   "id": "ecd382d1-d272-42c4-b998-133ce914a790",
   "metadata": {
    "tags": []
   },
   "outputs": [],
   "source": [
    "import os\n",
    "import pandas as pd"
   ]
  },
  {
   "cell_type": "code",
   "execution_count": null,
   "id": "21de5dbf-76b1-42d3-ba61-a8fc17142af5",
   "metadata": {
    "tags": []
   },
   "outputs": [],
   "source": [
    "mini_dataset_path = \"./data/mini_dataset.json\""
   ]
  },
  {
   "cell_type": "code",
   "execution_count": null,
   "id": "8c314b32-72d8-4c48-9bb5-34008f6120d5",
   "metadata": {
    "tags": []
   },
   "outputs": [],
   "source": [
    "data = pd.read_json(mini_dataset_path, lines=True)\n",
    "data.head()"
   ]
  },
  {
   "cell_type": "code",
   "execution_count": null,
   "id": "c961ea2b-f923-4668-8e0a-9b0c3be614a0",
   "metadata": {
    "tags": []
   },
   "outputs": [],
   "source": [
    "data.shape"
   ]
  },
  {
   "cell_type": "code",
   "execution_count": null,
   "id": "7d6aef5b-a6e1-48ff-ac6a-f91c6a44e756",
   "metadata": {
    "tags": []
   },
   "outputs": [],
   "source": [
    "data[\"business_id\"].nunique()"
   ]
  },
  {
   "cell_type": "code",
   "execution_count": null,
   "id": "d5928f1f-ee89-42cb-9fe7-b95aad7a5ff0",
   "metadata": {
    "tags": []
   },
   "outputs": [],
   "source": [
    "data[[\"business_stars\"]].describe()"
   ]
  },
  {
   "cell_type": "code",
   "execution_count": null,
   "id": "3fd3ca62-a99a-4f89-8fce-421b9e0b2fd4",
   "metadata": {
    "tags": []
   },
   "outputs": [],
   "source": [
    "data[[\"review_stars\"]].describe()"
   ]
  },
  {
   "cell_type": "code",
   "execution_count": null,
   "id": "a4e10638-e9e5-4b8a-8608-d028053b3b33",
   "metadata": {
    "tags": []
   },
   "outputs": [],
   "source": [
    "# Review text length stats\n",
    "data[\"text\"].apply(len).describe()"
   ]
  },
  {
   "cell_type": "code",
   "execution_count": null,
   "id": "be8ef69c-a74d-47ec-9ce7-716025a7f7ed",
   "metadata": {
    "tags": []
   },
   "outputs": [],
   "source": [
    "# Review # words stats\n",
    "data[\"text\"].apply(lambda x: len(x.split())).describe()"
   ]
  },
  {
   "cell_type": "code",
   "execution_count": null,
   "id": "75466ff8-5dde-4a8d-a537-447219e8c4d0",
   "metadata": {},
   "outputs": [],
   "source": []
  }
 ],
 "metadata": {
  "environment": {
   "kernel": "python3",
   "name": ".m113",
   "type": "gcloud",
   "uri": "gcr.io/deeplearning-platform-release/:m113"
  },
  "kernelspec": {
   "display_name": "Python 3",
   "language": "python",
   "name": "python3"
  },
  "language_info": {
   "codemirror_mode": {
    "name": "ipython",
    "version": 3
   },
   "file_extension": ".py",
   "mimetype": "text/x-python",
   "name": "python",
   "nbconvert_exporter": "python",
   "pygments_lexer": "ipython3",
   "version": "3.10.13"
  }
 },
 "nbformat": 4,
 "nbformat_minor": 5
}
