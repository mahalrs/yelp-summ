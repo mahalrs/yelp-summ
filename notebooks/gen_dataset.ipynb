{
 "cells": [
  {
   "cell_type": "code",
   "execution_count": null,
   "id": "68991522-9c07-4344-bcd2-650ba1312f70",
   "metadata": {
    "tags": []
   },
   "outputs": [],
   "source": [
    "import json\n",
    "import os\n",
    "import pandas as pd"
   ]
  },
  {
   "cell_type": "markdown",
   "id": "46417592-6bf8-4ad9-ad3c-708d1c3a0d17",
   "metadata": {},
   "source": [
    "## Load Generated Dataset\n"
   ]
  },
  {
   "cell_type": "code",
   "execution_count": null,
   "id": "b3619df2-5f97-46f8-8f07-97f1980d182f",
   "metadata": {
    "tags": []
   },
   "outputs": [],
   "source": [
    "gen_dataset_path = os.path.join(\"./data\", \"gen_dataset_exp1.json\")\n",
    "\n",
    "with open(gen_dataset_path, \"r\") as f:\n",
    "    data = json.load(f)"
   ]
  },
  {
   "cell_type": "markdown",
   "id": "57f60add-3a89-43ef-af8d-a8a2b5ffa9f7",
   "metadata": {},
   "source": [
    "## Sample Output\n"
   ]
  },
  {
   "cell_type": "code",
   "execution_count": null,
   "id": "10f44580-ac85-4cbd-94b6-69a78bcba893",
   "metadata": {
    "tags": []
   },
   "outputs": [],
   "source": [
    "for business_id in data:\n",
    "    print(\"\\n\\n\".join(r for r in data[business_id][\"reviews\"]))\n",
    "    print(\"--\\nGold Summaries\\n--\")\n",
    "    print(\"\\n\\n\".join(s for s in data[business_id][\"summaries\"]))\n",
    "    print(\"--\\nGenerated Summary\\n--\")\n",
    "    print(data[business_id][\"generated_summary\"])\n",
    "\n",
    "    if \"keywords\" in data[business_id]:\n",
    "        print(\"--\\nBusiness Attributes\\n--\")\n",
    "        print(data[business_id][\"keywords\"])\n",
    "\n",
    "    break"
   ]
  },
  {
   "cell_type": "markdown",
   "id": "3190a189-434f-4856-bf3a-8dfa4198ac17",
   "metadata": {},
   "source": [
    "## Stats\n"
   ]
  },
  {
   "cell_type": "markdown",
   "id": "914e9f9e-c2da-47c0-9637-ec193cd75779",
   "metadata": {},
   "source": [
    "### Reviews\n"
   ]
  },
  {
   "cell_type": "code",
   "execution_count": null,
   "id": "1daf6228-3072-4457-b249-46f33751e36e",
   "metadata": {
    "tags": []
   },
   "outputs": [],
   "source": [
    "# Create a list of reviews across all businesses\n",
    "reviews = []\n",
    "for business_id in data:\n",
    "    reviews.extend(data[business_id][\"reviews\"])"
   ]
  },
  {
   "cell_type": "code",
   "execution_count": null,
   "id": "1f14934c-45a0-4c0e-9d54-eb40bb0b6b30",
   "metadata": {
    "tags": []
   },
   "outputs": [],
   "source": [
    "# Review text length stats\n",
    "pd.DataFrame(reviews)[0].apply(len).describe()"
   ]
  },
  {
   "cell_type": "code",
   "execution_count": null,
   "id": "1eb88f70-7ccd-44f7-8bef-01c2a7b3a90e",
   "metadata": {
    "tags": []
   },
   "outputs": [],
   "source": [
    "# Review # words stats\n",
    "pd.DataFrame(reviews)[0].apply(lambda x: len(x.split())).describe()"
   ]
  },
  {
   "cell_type": "markdown",
   "id": "c6e51b97-9c3e-48f5-b67f-c13ba2cc291e",
   "metadata": {},
   "source": [
    "### Gold Summaries (human-written)\n"
   ]
  },
  {
   "cell_type": "code",
   "execution_count": null,
   "id": "34b3c439-1dde-48f6-9ff7-9b48fcb9ada1",
   "metadata": {
    "tags": []
   },
   "outputs": [],
   "source": [
    "# Create a list of gold summaries across all businesses\n",
    "gold_summs = []\n",
    "for business_id in data:\n",
    "    gold_summs.extend(data[business_id][\"summaries\"])"
   ]
  },
  {
   "cell_type": "code",
   "execution_count": null,
   "id": "84c3c02a-c74c-4632-a338-8820c3c6bbcd",
   "metadata": {
    "tags": []
   },
   "outputs": [],
   "source": [
    "# Gold summaries length stats\n",
    "pd.DataFrame(gold_summs)[0].apply(len).describe()"
   ]
  },
  {
   "cell_type": "code",
   "execution_count": null,
   "id": "d1a65552-4308-4b8b-8511-1095502ccda9",
   "metadata": {
    "tags": []
   },
   "outputs": [],
   "source": [
    "# Gold summaries # words stats\n",
    "pd.DataFrame(gold_summs)[0].apply(lambda x: len(x.split())).describe()"
   ]
  },
  {
   "cell_type": "markdown",
   "id": "fe096af1-e647-4d62-b380-672012712596",
   "metadata": {},
   "source": [
    "### Generated Summaries\n"
   ]
  },
  {
   "cell_type": "code",
   "execution_count": null,
   "id": "0ed8a22a-51ef-45ab-adca-0bb91777094e",
   "metadata": {
    "tags": []
   },
   "outputs": [],
   "source": [
    "# Create a list of generated summaries across all businesses\n",
    "gen_summs = [data[b_id][\"generated_summary\"] for b_id in data]"
   ]
  },
  {
   "cell_type": "code",
   "execution_count": null,
   "id": "9372c392-789e-4d7a-9da8-3e53cdc909a1",
   "metadata": {
    "tags": []
   },
   "outputs": [],
   "source": [
    "# Generated summaries length stats\n",
    "pd.DataFrame(gen_summs)[0].apply(len).describe()"
   ]
  },
  {
   "cell_type": "code",
   "execution_count": null,
   "id": "cb90da8c-f5e0-4e84-b297-64d4e318fc0c",
   "metadata": {
    "tags": []
   },
   "outputs": [],
   "source": [
    "# Generated summaries # words stats\n",
    "pd.DataFrame(gen_summs)[0].apply(lambda x: len(x.split())).describe()"
   ]
  },
  {
   "cell_type": "code",
   "execution_count": null,
   "id": "7a1abab0-52e0-4ab5-90fc-f7be4ecaa4ba",
   "metadata": {},
   "outputs": [],
   "source": []
  }
 ],
 "metadata": {
  "environment": {
   "kernel": "python3",
   "name": ".m113",
   "type": "gcloud",
   "uri": "gcr.io/deeplearning-platform-release/:m113"
  },
  "kernelspec": {
   "display_name": "Python 3",
   "language": "python",
   "name": "python3"
  },
  "language_info": {
   "codemirror_mode": {
    "name": "ipython",
    "version": 3
   },
   "file_extension": ".py",
   "mimetype": "text/x-python",
   "name": "python",
   "nbconvert_exporter": "python",
   "pygments_lexer": "ipython3",
   "version": "3.10.13"
  }
 },
 "nbformat": 4,
 "nbformat_minor": 5
}
