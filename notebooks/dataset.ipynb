{
 "cells": [
  {
   "cell_type": "code",
   "execution_count": null,
   "id": "ca7e0c32-973d-4543-8386-828fb28fc0f1",
   "metadata": {
    "tags": []
   },
   "outputs": [],
   "source": [
    "import os\n",
    "import pandas as pd"
   ]
  },
  {
   "cell_type": "markdown",
   "id": "8e8a0570-8519-4de5-9854-3b90d7365212",
   "metadata": {},
   "source": [
    "## Download Yelp Dataset\n"
   ]
  },
  {
   "cell_type": "markdown",
   "id": "a44d56ee-5d38-4f21-831d-2bb55a0acb39",
   "metadata": {},
   "source": [
    "Download the [Yelp Dataset](https://www.yelp.com/dataset), untar the data and store it under `./data` directory.\n"
   ]
  },
  {
   "cell_type": "code",
   "execution_count": null,
   "id": "7a66e3af-74ba-4bb6-8edd-9cd40f8ea90b",
   "metadata": {
    "tags": []
   },
   "outputs": [],
   "source": [
    "data_dir = \"./data\"\n",
    "\n",
    "businesses_fname = \"yelp_academic_dataset_business.json\"\n",
    "reviews_fname = \"yelp_academic_dataset_review.json\""
   ]
  },
  {
   "cell_type": "markdown",
   "id": "4fdb703f-d55b-4560-b3ce-6a41757cf01e",
   "metadata": {},
   "source": [
    "## Yelp Businesses\n"
   ]
  },
  {
   "cell_type": "code",
   "execution_count": null,
   "id": "fb888ff9-acd5-4d9d-ae6a-1b2f03c14ed8",
   "metadata": {
    "tags": []
   },
   "outputs": [],
   "source": [
    "businesses = pd.read_json(os.path.join(data_dir, businesses_fname), lines=True)\n",
    "businesses = businesses[[\"business_id\", \"stars\", \"review_count\", \"categories\"]]\n",
    "businesses.head()"
   ]
  },
  {
   "cell_type": "code",
   "execution_count": null,
   "id": "e62745b8-6f00-4073-971d-30bba2db0dc8",
   "metadata": {
    "tags": []
   },
   "outputs": [],
   "source": [
    "businesses.shape"
   ]
  },
  {
   "cell_type": "code",
   "execution_count": null,
   "id": "74ce9c97-dd3f-45e6-b1b8-e3117fe9509d",
   "metadata": {
    "tags": []
   },
   "outputs": [],
   "source": [
    "businesses.isnull().sum()"
   ]
  },
  {
   "cell_type": "code",
   "execution_count": null,
   "id": "67c90f45-cdf4-4d80-bd2c-b97d8540b4f5",
   "metadata": {
    "tags": []
   },
   "outputs": [],
   "source": [
    "businesses.dropna(inplace=True)\n",
    "businesses.shape"
   ]
  },
  {
   "cell_type": "code",
   "execution_count": null,
   "id": "5ee73751-90cc-4fa0-8754-4002d983bdf9",
   "metadata": {
    "tags": []
   },
   "outputs": [],
   "source": [
    "businesses[[\"stars\"]].describe()"
   ]
  },
  {
   "cell_type": "code",
   "execution_count": null,
   "id": "c98d4ddb-541f-4624-b9a5-1f184f8ab56b",
   "metadata": {
    "tags": []
   },
   "outputs": [],
   "source": [
    "businesses[[\"review_count\"]].describe()"
   ]
  },
  {
   "cell_type": "markdown",
   "id": "eb4e1bd3-9d41-46e9-be77-66dca874084b",
   "metadata": {},
   "source": [
    "## Preprocess Yelp Businesses\n"
   ]
  },
  {
   "cell_type": "markdown",
   "id": "51e006d7-238c-4bbb-8519-dda617256970",
   "metadata": {},
   "source": [
    "Reviews from businesses with low ratings or low review counts may include noise, outliers, or uninformative content. So, we will filter out such businesses to ensure high data quality.\n"
   ]
  },
  {
   "cell_type": "code",
   "execution_count": null,
   "id": "7abb2d95-1c3e-4176-be22-6bb1fb454119",
   "metadata": {
    "tags": []
   },
   "outputs": [],
   "source": [
    "min_review_count = 15\n",
    "min_stars = 3.0\n",
    "\n",
    "filtered_businesses = businesses[\n",
    "    (businesses[\"review_count\"] >= min_review_count)\n",
    "    & (businesses[\"stars\"] >= min_stars)\n",
    "]"
   ]
  },
  {
   "cell_type": "code",
   "execution_count": null,
   "id": "0daa747b-262b-45fd-ad8b-c7ce6c406b57",
   "metadata": {
    "tags": []
   },
   "outputs": [],
   "source": [
    "filtered_businesses.shape"
   ]
  },
  {
   "cell_type": "code",
   "execution_count": null,
   "id": "0f0614b8-a7cf-4b30-9830-1fc9f68be7c1",
   "metadata": {
    "tags": []
   },
   "outputs": [],
   "source": [
    "filtered_businesses[[\"stars\"]].describe()"
   ]
  },
  {
   "cell_type": "code",
   "execution_count": null,
   "id": "3ea9c23a-791c-44e4-9ab3-fc74804c071d",
   "metadata": {
    "tags": []
   },
   "outputs": [],
   "source": [
    "filtered_businesses[[\"review_count\"]].describe()"
   ]
  },
  {
   "cell_type": "markdown",
   "id": "26140a0c-e3c6-4dc3-a7fa-2b2e3d6e552c",
   "metadata": {},
   "source": [
    "## Yelp Reviews\n"
   ]
  },
  {
   "cell_type": "code",
   "execution_count": null,
   "id": "b47b9535-db26-4b27-a9c6-a07d2d22932d",
   "metadata": {
    "tags": []
   },
   "outputs": [],
   "source": [
    "reviews = pd.read_json(os.path.join(data_dir, reviews_fname), lines=True)\n",
    "reviews = reviews[[\"review_id\", \"business_id\", \"stars\", \"text\"]]\n",
    "reviews.head()"
   ]
  },
  {
   "cell_type": "code",
   "execution_count": null,
   "id": "1b18ae05-799d-440c-9053-3f777cce0d9c",
   "metadata": {
    "tags": []
   },
   "outputs": [],
   "source": [
    "reviews.shape"
   ]
  },
  {
   "cell_type": "code",
   "execution_count": null,
   "id": "3ac7be96-3c88-47a7-9997-9e26b249a8ee",
   "metadata": {
    "tags": []
   },
   "outputs": [],
   "source": [
    "reviews.isnull().sum()"
   ]
  },
  {
   "cell_type": "code",
   "execution_count": null,
   "id": "dac51f0c-d4e9-447d-aa22-e3d67e028321",
   "metadata": {
    "tags": []
   },
   "outputs": [],
   "source": [
    "reviews[[\"stars\"]].describe()"
   ]
  },
  {
   "cell_type": "code",
   "execution_count": null,
   "id": "5e800217-9dfe-4ce1-8e9f-0920771cc1cd",
   "metadata": {
    "tags": []
   },
   "outputs": [],
   "source": [
    "# Review text length stats\n",
    "reviews[\"text\"].apply(len).describe()"
   ]
  },
  {
   "cell_type": "code",
   "execution_count": null,
   "id": "1ad1ce8e-3fa0-4229-90be-26d7ace4d073",
   "metadata": {
    "tags": []
   },
   "outputs": [],
   "source": [
    "# Review # words stats\n",
    "reviews[\"text\"].apply(lambda x: len(x.split())).describe()"
   ]
  },
  {
   "cell_type": "markdown",
   "id": "3007bc18-f4da-4491-8370-94a52bfc281d",
   "metadata": {},
   "source": [
    "## Preprocess Reviews\n"
   ]
  },
  {
   "cell_type": "markdown",
   "id": "616956b7-69e2-43b0-ab33-da5903de36fa",
   "metadata": {},
   "source": [
    "Now filter out excessively long or short reviews, including ones with low ratings.\n"
   ]
  },
  {
   "cell_type": "code",
   "execution_count": null,
   "id": "4e18f046-3c2e-44e1-b3cc-d46d3c84f9bf",
   "metadata": {
    "tags": []
   },
   "outputs": [],
   "source": [
    "min_stars = 3.0\n",
    "filtered_reviews = reviews[\n",
    "    (reviews[\"stars\"] >= min_stars)\n",
    "    & (\n",
    "        reviews[\"text\"].apply(\n",
    "            lambda x: (len(x.split()) >= 42 and len(x.split()) <= 149)\n",
    "        )\n",
    "    )\n",
    "]"
   ]
  },
  {
   "cell_type": "code",
   "execution_count": null,
   "id": "3fd196c9-2a00-4060-a2ae-c88bb3c2fa7e",
   "metadata": {
    "tags": []
   },
   "outputs": [],
   "source": [
    "filtered_reviews.shape"
   ]
  },
  {
   "cell_type": "code",
   "execution_count": null,
   "id": "41596115-b43e-45d2-81d7-a17c3e9528cf",
   "metadata": {
    "tags": []
   },
   "outputs": [],
   "source": [
    "filtered_reviews[[\"stars\"]].describe()"
   ]
  },
  {
   "cell_type": "code",
   "execution_count": null,
   "id": "35f22b1b-1044-49d7-b9c7-0ad2e4f1701b",
   "metadata": {
    "tags": []
   },
   "outputs": [],
   "source": [
    "# Review # words stats\n",
    "filtered_reviews[\"text\"].apply(lambda x: len(x.split())).describe()"
   ]
  },
  {
   "cell_type": "markdown",
   "id": "6909041d-6e30-4c06-ac4f-bbbb26f895e0",
   "metadata": {},
   "source": [
    "## Group Businesses & Reviews\n"
   ]
  },
  {
   "cell_type": "code",
   "execution_count": null,
   "id": "79f53232-00bf-4c5b-b759-94eeabf54234",
   "metadata": {
    "tags": []
   },
   "outputs": [],
   "source": [
    "# Now merge and filter out reviews from businesses that are not part of our list.\n",
    "merged_df = pd.merge(\n",
    "    filtered_reviews, filtered_businesses, on=\"business_id\", how=\"inner\"\n",
    ")\n",
    "merged_df.drop(columns=[\"review_count\", \"categories\"], inplace=True)\n",
    "merged_df.rename(\n",
    "    columns={\"stars_x\": \"review_stars\", \"stars_y\": \"business_stars\"},\n",
    "    inplace=True,\n",
    ")\n",
    "merged_df.head()"
   ]
  },
  {
   "cell_type": "code",
   "execution_count": null,
   "id": "02ca0417-7c20-43ff-9cb1-133d07bef069",
   "metadata": {
    "tags": []
   },
   "outputs": [],
   "source": [
    "merged_df.shape"
   ]
  },
  {
   "cell_type": "code",
   "execution_count": null,
   "id": "26c1156e-19e7-46b6-b7f0-0005fefba958",
   "metadata": {
    "tags": []
   },
   "outputs": [],
   "source": [
    "merged_df[\"business_id\"].nunique()"
   ]
  },
  {
   "cell_type": "code",
   "execution_count": null,
   "id": "bb7c4425-09b8-41cc-9040-0781edcc2e60",
   "metadata": {
    "tags": []
   },
   "outputs": [],
   "source": [
    "merged_df.groupby([\"business_id\"])[\"business_id\"].count().reset_index(\n",
    "    name=\"count\"\n",
    ").describe()"
   ]
  },
  {
   "cell_type": "code",
   "execution_count": null,
   "id": "69b1ffab-a5de-4e40-a79b-def86183adfb",
   "metadata": {
    "tags": []
   },
   "outputs": [],
   "source": [
    "# Now group by business_id and filter out businesses that less # of reviews.\n",
    "# Need to do this again because we already filtered a lot of reviews,\n",
    "# so review_count for each businesses might be different now.\n",
    "min_review_count = 15\n",
    "\n",
    "yelp_dataset = merged_df.groupby([\"business_id\"]).filter(\n",
    "    lambda x: len(x) >= min_review_count\n",
    ")\n",
    "yelp_dataset.head()"
   ]
  },
  {
   "cell_type": "code",
   "execution_count": null,
   "id": "dd3cfc37-4ba1-4ff7-8b50-4eca9f29bc7d",
   "metadata": {
    "tags": []
   },
   "outputs": [],
   "source": [
    "yelp_dataset.shape"
   ]
  },
  {
   "cell_type": "code",
   "execution_count": null,
   "id": "83cea0b7-8e6f-4cd6-81c5-c9c40e0e2186",
   "metadata": {
    "tags": []
   },
   "outputs": [],
   "source": [
    "yelp_dataset.groupby([\"business_id\"])[\"business_id\"].count().reset_index(\n",
    "    name=\"count\"\n",
    ").describe()"
   ]
  },
  {
   "cell_type": "code",
   "execution_count": null,
   "id": "068439f8-1ee8-4133-8266-a0e2a8ba8ae6",
   "metadata": {
    "tags": []
   },
   "outputs": [],
   "source": [
    "yelp_dataset[[\"business_stars\"]].describe()"
   ]
  },
  {
   "cell_type": "code",
   "execution_count": null,
   "id": "1c6ff359-0753-4787-8db7-e6f00d9169c2",
   "metadata": {
    "tags": []
   },
   "outputs": [],
   "source": [
    "yelp_dataset[[\"review_stars\"]].describe()"
   ]
  },
  {
   "cell_type": "code",
   "execution_count": null,
   "id": "0d990c47-f54e-4f80-98ab-1a453412a027",
   "metadata": {
    "tags": []
   },
   "outputs": [],
   "source": [
    "# Review # words stats\n",
    "yelp_dataset[\"text\"].apply(lambda x: len(x.split())).describe()"
   ]
  },
  {
   "cell_type": "code",
   "execution_count": null,
   "id": "803b1df3-7c8f-4ead-910c-effc0feac2ba",
   "metadata": {},
   "outputs": [],
   "source": []
  }
 ],
 "metadata": {
  "environment": {
   "kernel": "python3",
   "name": ".m113",
   "type": "gcloud",
   "uri": "gcr.io/deeplearning-platform-release/:m113"
  },
  "kernelspec": {
   "display_name": "Python 3",
   "language": "python",
   "name": "python3"
  },
  "language_info": {
   "codemirror_mode": {
    "name": "ipython",
    "version": 3
   },
   "file_extension": ".py",
   "mimetype": "text/x-python",
   "name": "python",
   "nbconvert_exporter": "python",
   "pygments_lexer": "ipython3",
   "version": "3.10.13"
  }
 },
 "nbformat": 4,
 "nbformat_minor": 5
}
