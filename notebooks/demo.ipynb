{
 "cells": [
  {
   "cell_type": "code",
   "execution_count": null,
   "id": "95e11157-a06a-4cda-a122-fccf342177d0",
   "metadata": {
    "tags": []
   },
   "outputs": [],
   "source": [
    "from statistics import mean\n",
    "\n",
    "import evaluate\n",
    "from transformers import AutoModelForSeq2SeqLM, AutoTokenizer"
   ]
  },
  {
   "cell_type": "code",
   "execution_count": null,
   "id": "24bf1065-69fc-4955-8327-d6bfc3ba8772",
   "metadata": {
    "tags": []
   },
   "outputs": [],
   "source": [
    "model = AutoModelForSeq2SeqLM.from_pretrained(\"./logs/checkpoint-600\")\n",
    "tokenizer = AutoTokenizer.from_pretrained(\"facebook/bart-base\")"
   ]
  },
  {
   "cell_type": "code",
   "execution_count": null,
   "id": "0ce7d32e-22bc-4d73-9b2d-39fb7f5d418b",
   "metadata": {
    "tags": []
   },
   "outputs": [],
   "source": [
    "metric_names = [\"rouge\", \"bertscore\", \"bleu\", \"meteor\"]\n",
    "metrics = [evaluate.load(metric) for metric in metric_names]"
   ]
  },
  {
   "cell_type": "code",
   "execution_count": null,
   "id": "dd2eb857-c76d-4a72-b600-9adf5fbad88b",
   "metadata": {
    "tags": []
   },
   "outputs": [],
   "source": [
    "reviews = [\n",
    "    \"Best breakfast in Akron. They care about quality and it shows in the food. The bar is designed like an island in your kitchen, makes you feel like you're at home. Wait staff is very professional and treat you like family. Owner is local and is very hands on; which shows in the food. Great place for lunch too!\",\n",
    "    \"Very busy on weekends, yet there is never too long of a wait. Service is great and the portions are very generous, especially the pancakes! (My favorite). The new interior is very nice and adds great atmosphere!\",\n",
    "    \"What a great place! Food is amazing and it's not just your ordinary breakfast or lunch spot. The food is unique and delicious. One of my favorite is the red eye hash! Fresh orange juice or a bloody mary, either way both delicious. The service is always great and the atmosphere is good.\",\n",
    "    \"One of our favorite breakfast spots. There's often a wait on the weekends but we've never waited more than 10 minutes. The host and wait staff and always friendly and accommodating and the food is consistently wonderful. I recommend the eggs Benedict with crabmeat or the red eye hash!\",\n",
    "    \"Great restaurant. More thank likely you'll find a wait, but it's worth it. Breakfast is amazing no matter what you get. If you get a lunch try the fries, double fried, dipped in white French dressing. Or order it as a side. You'll thank me later.\",\n",
    "    \"Fantastic Omlets wonderful friendly service. Killer spicy Brown potatoes and the special crooked river jams. One of my top breakfast stops. Relaxing with a cup of coffee and surfing the web. great way to start the day. And they have great sandwiches too for lunch.\",\n",
    "    \"A very good breakfast spot that has it's own take on popular dishes. The potatoes are especially tasty, though everyone at our table enjoyed their meals which ranged from pancakes, eggs and french toast. I also like the Akron themed pictures on the wall.\",\n",
    "    \"Great breakfast!!! Come early because lines start early. Bloody Mary's and mimosas. Fast and affordable. Great experience. Staff was friendly and the portions are huge!!! $- $$. Great price and an amazing brunch stop in Akron / Fairlawn my eggs and sausage were cooked perfectly!!!\",\n",
    "]\n",
    "\n",
    "gold_summ = [\n",
    "    \"This restaurant has consistently good food and service. It is an especially popular place for breakfast, though they serve a tasty lunch as well. The atmosphere inside is positive and the staff are always friendly. Expect a short wait on the weekends, as it can become overcrowded.\",\n",
    "    \"Really great restaurant for a nice breakfast! Fantastic and unique dishes that never fails to amaze customers, friendly and efficient staff, generous portions and great atmosphere. Excellent menu with a wide variety. Management is quality-minded. Overall a highly recommended place.\",\n",
    "    \"This restaurant is often very busy on weekends, but even so there usually isn't much of a wait. The staff is very friendly and provide great service. The food is a bit unique, but all of it is very good, particularly the eggs and pancakes. They specialize in breakfast, but also offer sandwiches for lunch. The portions are large for the price they charge. This place is highly recommended.\",\n",
    "]\n",
    "\n",
    "palm_generated = \"This restaurant is a local favorite for breakfast and lunch. The food is delicious and unique, and the portions are generous. The service is friendly and attentive, and the atmosphere is casual and inviting. There is often a wait on the weekends, but it is worth it. The prices are reasonable.\""
   ]
  },
  {
   "cell_type": "code",
   "execution_count": null,
   "id": "993efb60-b101-4bf3-a3b5-a33d09c5ee05",
   "metadata": {
    "tags": []
   },
   "outputs": [],
   "source": [
    "inputs = tokenizer(\n",
    "    \",</s>\".join(r for r in reviews),\n",
    "    max_length=1024,\n",
    "    truncation=True,\n",
    "    padding=\"max_length\",\n",
    "    return_tensors=\"pt\",\n",
    ")"
   ]
  },
  {
   "cell_type": "code",
   "execution_count": null,
   "id": "6a837acd-4188-4d48-a454-263f329c3986",
   "metadata": {
    "tags": []
   },
   "outputs": [],
   "source": [
    "summaries = model.generate(\n",
    "    input_ids=inputs[\"input_ids\"],\n",
    "    attention_mask=inputs[\"attention_mask\"],\n",
    "    num_beams=3,\n",
    "    max_length=128,\n",
    "    early_stopping=True,\n",
    "    length_penalty=0.6,\n",
    ")"
   ]
  },
  {
   "cell_type": "code",
   "execution_count": null,
   "id": "69abf5d1-5ab5-435a-95e8-dc61dd3a427f",
   "metadata": {
    "tags": []
   },
   "outputs": [],
   "source": [
    "decoded_summaries = tokenizer.batch_decode(\n",
    "    summaries,\n",
    "    skip_special_tokens=True,\n",
    "    clean_up_tokenization_spaces=True,\n",
    "    return_tensors=\"pt\",\n",
    ")"
   ]
  },
  {
   "cell_type": "code",
   "execution_count": null,
   "id": "67e0f306-5927-4ea7-b16f-713328de1a1c",
   "metadata": {
    "tags": []
   },
   "outputs": [],
   "source": [
    "decoded_summaries"
   ]
  },
  {
   "cell_type": "code",
   "execution_count": null,
   "id": "d1da42a4-4f4e-4e88-973e-a0e8f1c86ed6",
   "metadata": {
    "tags": []
   },
   "outputs": [],
   "source": [
    "for metric in metrics:\n",
    "    metric.add(predictions=decoded_summaries[0], references=gold_summ[0])\n",
    "    metric.add(predictions=decoded_summaries[0], references=gold_summ[1])\n",
    "    metric.add(predictions=decoded_summaries[0], references=gold_summ[2])\n",
    "\n",
    "scores = [\n",
    "    metric.compute()\n",
    "    if metric.name != \"bert_score\"\n",
    "    else metric.compute(lang=\"en\")\n",
    "    for metric in metrics\n",
    "]"
   ]
  },
  {
   "cell_type": "code",
   "execution_count": null,
   "id": "65afe027-a001-43ed-be77-f5f4b6af8289",
   "metadata": {
    "tags": []
   },
   "outputs": [],
   "source": [
    "rouge1 = round(scores[0][\"rouge1\"], 4)\n",
    "rouge2 = round(scores[0][\"rouge2\"], 4)\n",
    "rougeL = round(scores[0][\"rougeL\"], 4)\n",
    "rougeLsum = round(scores[0][\"rougeLsum\"], 4)\n",
    "\n",
    "precision = round(mean(scores[1][\"precision\"]), 4)\n",
    "recall = round(mean(scores[1][\"recall\"]), 4)\n",
    "f1 = round(mean(scores[1][\"f1\"]), 4)\n",
    "\n",
    "bleu = round(scores[2][\"bleu\"], 4)\n",
    "meteor = round(scores[3][\"meteor\"], 4)\n",
    "\n",
    "print(\"----------\")\n",
    "print(\n",
    "    f\"  ROUGE    : rouge1: {rouge1} rouge2: {rouge2} rougeL: {rougeL} rougeLsum: {rougeLsum}\"\n",
    ")\n",
    "print(f\"  BERTScore: precision: {precision} recall: {recall} f1: {f1}\")\n",
    "print(f\"  BLEU     : {bleu}\")\n",
    "print(f\"  METEOR   : {meteor}\")\n",
    "print(\"----------\\n\\n\")"
   ]
  },
  {
   "cell_type": "code",
   "execution_count": null,
   "id": "654848e7-ee1f-472b-8b7a-b8a1ecd16d16",
   "metadata": {},
   "outputs": [],
   "source": []
  }
 ],
 "metadata": {
  "environment": {
   "kernel": "python3",
   "name": ".m113",
   "type": "gcloud",
   "uri": "gcr.io/deeplearning-platform-release/:m113"
  },
  "kernelspec": {
   "display_name": "Python 3",
   "language": "python",
   "name": "python3"
  },
  "language_info": {
   "codemirror_mode": {
    "name": "ipython",
    "version": 3
   },
   "file_extension": ".py",
   "mimetype": "text/x-python",
   "name": "python",
   "nbconvert_exporter": "python",
   "pygments_lexer": "ipython3",
   "version": "3.10.13"
  }
 },
 "nbformat": 4,
 "nbformat_minor": 5
}
